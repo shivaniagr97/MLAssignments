{
  "nbformat": 4,
  "nbformat_minor": 0,
  "metadata": {
    "colab": {
      "name": "week1assignment.ipynb",
      "provenance": [],
      "include_colab_link": true
    },
    "kernelspec": {
      "name": "python3",
      "display_name": "Python 3"
    }
  },
  "cells": [
    {
      "cell_type": "markdown",
      "metadata": {
        "id": "view-in-github",
        "colab_type": "text"
      },
      "source": [
        "<a href=\"https://colab.research.google.com/github/shivaniagr97/MLAssignments/blob/master/week1assignment.ipynb\" target=\"_parent\"><img src=\"https://colab.research.google.com/assets/colab-badge.svg\" alt=\"Open In Colab\"/></a>"
      ]
    },
    {
      "cell_type": "code",
      "metadata": {
        "id": "F-6bE0dYcBgA",
        "colab_type": "code",
        "colab": {}
      },
      "source": [
        "## Import stuff\n",
        " \n",
        "import numpy as np\n",
        "from sklearn import datasets, linear_model, metrics"
      ],
      "execution_count": 0,
      "outputs": []
    },
    {
      "cell_type": "code",
      "metadata": {
        "id": "gK71NIhMcEs5",
        "colab_type": "code",
        "colab": {}
      },
      "source": [
        "## Load the diabetes dataset\n",
        "diabetes = datasets.load_diabetes()\n",
        "diabetes_X = diabetes.data # matrix of dimensions 442x10\n",
        " \n",
        "# Split the data into training/testing sets\n",
        "diabetes_X_train = diabetes_X[:-20]\n",
        "diabetes_X_test = diabetes_X[-20:]\n",
        " \n",
        "# Split the targets into training/testing sets\n",
        "diabetes_y_train = diabetes.target[:-20]\n",
        "diabetes_y_test = diabetes.target[-20:]"
      ],
      "execution_count": 0,
      "outputs": []
    },
    {
      "cell_type": "code",
      "metadata": {
        "id": "XJTg22ybcHsl",
        "colab_type": "code",
        "colab": {
          "base_uri": "https://localhost:8080/",
          "height": 357
        },
        "outputId": "65a9797c-a937-44c6-d9e7-2ef1422987b4"
      },
      "source": [
        "# train\n",
        "X = diabetes_X_train\n",
        "y = diabetes_y_train\n",
        "\n",
        "# train: init\n",
        "W = np.random.rand(10);\n",
        "b = np.random.rand(1)\n",
        " \n",
        "learning_rate = 0.1\n",
        "epochs = 100000\n",
        " \n",
        "# train: gradient descent\n",
        "for i in range(epochs):\n",
        "    # calculate predictions\n",
        "    predictions = np.dot(X,W) + b;\n",
        "\n",
        "    # calculate error and cost (mean squared error)\n",
        "    mean_squared_error = 1/(2*len(y)) * np.sum(np.square(predictions-y));\n",
        " \n",
        "    # calculate gradients\n",
        "    gradients = 1/(len(y)) * np.dot(np.insert(X,0,1,axis=1).T, predictions - y);\n",
        " \n",
        "    # update parameters\n",
        "    W = W - learning_rate * gradients[1:];\n",
        "    b = b - learning_rate * gradients[0];\n",
        " \n",
        "    # diagnostic output\n",
        "    if i % 5000 == 0: print(\"Epoch %d: %f\" % (i, mean_squared_error))"
      ],
      "execution_count": 46,
      "outputs": [
        {
          "output_type": "stream",
          "text": [
            "Epoch 0: 14705.265202\n",
            "Epoch 5000: 1524.100771\n",
            "Epoch 10000: 1470.701896\n",
            "Epoch 15000: 1463.722306\n",
            "Epoch 20000: 1462.369919\n",
            "Epoch 25000: 1461.891309\n",
            "Epoch 30000: 1461.591466\n",
            "Epoch 35000: 1461.340831\n",
            "Epoch 40000: 1461.109262\n",
            "Epoch 45000: 1460.888363\n",
            "Epoch 50000: 1460.675333\n",
            "Epoch 55000: 1460.468976\n",
            "Epoch 60000: 1460.268620\n",
            "Epoch 65000: 1460.073789\n",
            "Epoch 70000: 1459.884104\n",
            "Epoch 75000: 1459.699248\n",
            "Epoch 80000: 1459.518948\n",
            "Epoch 85000: 1459.342964\n",
            "Epoch 90000: 1459.171089\n",
            "Epoch 95000: 1459.003135\n"
          ],
          "name": "stdout"
        }
      ]
    },
    {
      "cell_type": "code",
      "metadata": {
        "id": "uvSdTn-0cKJL",
        "colab_type": "code",
        "colab": {
          "base_uri": "https://localhost:8080/",
          "height": 102
        },
        "outputId": "47f8599c-4f49-44c2-a429-a87f27aecde8"
      },
      "source": [
        "# test\n",
        "X = diabetes_X_test\n",
        "y = diabetes_y_test\n",
        " \n",
        "# calculate predictions + calculate error and cost (same code as above)\n",
        "predictions = np.dot(X,W) + b;\n",
        "\n",
        "mean_squared_error = 1/(2*len(y)) * np.sum(np.square(predictions-y));\n",
        " \n",
        "print('Coefficients: \\n', W)\n",
        "print(\"Mean squared error: %.2f\" % mean_squared_error)\n",
        "print(\"=\"*120)"
      ],
      "execution_count": 47,
      "outputs": [
        {
          "output_type": "stream",
          "text": [
            "Coefficients: \n",
            " [   3.66086894 -234.66542582  519.39363928  325.58328383 -176.32068975\n",
            "  -16.28357092 -179.94821394  108.11387925  502.85726605   78.96846965]\n",
            "Mean squared error: 996.76\n",
            "========================================================================================================================\n"
          ],
          "name": "stdout"
        }
      ]
    }
  ]
}